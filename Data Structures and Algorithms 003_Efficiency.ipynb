{
 "cells": [
  {
   "cell_type": "markdown",
   "metadata": {},
   "source": [
    "### efficiency/complexity\n",
    "\n",
    "- in terms of __space__ and __time__\n",
    "    - space in terms of the computer memory \n",
    "    - time in terms of running time"
   ]
  },
  {
   "cell_type": "markdown",
   "metadata": {},
   "source": [
    "### order of an algorithm\n",
    "increase rate of running time with respect to input could be linear or quadratic etc. this is called order of an algo.\n",
    "\n",
    "- counting lines (might not be accurate, but apply to some cases\n",
    "- as input increases, the lines to execute also increase\n"
   ]
  },
  {
   "cell_type": "markdown",
   "metadata": {},
   "source": [
    "### big O \n",
    "big 0 notates the rate of increase, aka order, in running time in terms of input size.\n",
    "this is related to how fast computer processor is and how many operations it is executing."
   ]
  },
  {
   "cell_type": "markdown",
   "metadata": {},
   "source": [
    "### space efficiency \n",
    "memory  in the program, basically how many variables and how much memory needed to store those variables/funtions\n",
    "\n",
    "in C/C++, an integer type takes up 4 bytes of memory to store the value, but in Python 3 an integer takes 14 bytes of space."
   ]
  }
 ],
 "metadata": {
  "kernelspec": {
   "display_name": "Python 3",
   "language": "python",
   "name": "python3"
  },
  "language_info": {
   "codemirror_mode": {
    "name": "ipython",
    "version": 3
   },
   "file_extension": ".py",
   "mimetype": "text/x-python",
   "name": "python",
   "nbconvert_exporter": "python",
   "pygments_lexer": "ipython3",
   "version": "3.7.4"
  }
 },
 "nbformat": 4,
 "nbformat_minor": 2
}
